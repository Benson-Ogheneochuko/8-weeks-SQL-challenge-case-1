{
  "metadata": {
    "language_info": {
      "codemirror_mode": "sql",
      "file_extension": "",
      "mimetype": "",
      "name": "sql",
      "version": "3.32.3"
    },
    "kernelspec": {
      "name": "SQLite",
      "display_name": "SQLite",
      "language": "sql"
    }
  },
  "nbformat_minor": 4,
  "nbformat": 4,
  "cells": [
    {
      "cell_type": "code",
      "source": "/* --------------------\n   Case Study Questions\n   --------------------*/\n\n--1. What is the total amount each customer spent at the restaurant?\nSELECT\n    customer_id,\n    SUM(total_amt_spent) AS total_amount_spent\nFROM (\n    SELECT\n        s.customer_id,\n        COUNT(s.product_id) * m.price AS total_amt_spent\n    FROM dannys_diner.sales AS s\n    INNER JOIN dannys_diner.menu AS m ON s.product_id = m.product_id\n    WHERE s.product_id = m.product_id\n    GROUP BY s.customer_id, m.price\n) AS amt_spent\nGROUP BY customer_id;",
      "metadata": {
        "tags": []
      },
      "execution_count": null,
      "outputs": []
    },
    {
      "cell_type": "code",
      "source": "-- 2. How many days has each customer visited the restaurant?\nSELECT\n\tcustomer_id,\n    COUNT(DISTINCT order_date) AS days_visited\nFROM dannys_diner.sales\nGROUP BY customer_id\nORDER BY days_visited DESC;",
      "metadata": {},
      "execution_count": null,
      "outputs": []
    },
    {
      "cell_type": "code",
      "source": " 3. What was the first item from the menu purchased by each customer?\nSELECT customer_id, product_name\nFROM (\n    SELECT \n        s.customer_id, \n        m.product_name,\n        ROW_NUMBER() OVER (PARTITION BY s.customer_id ORDER BY s.order_date) AS row_num\n    FROM \n        dannys_diner.sales AS s\n    INNER JOIN \n        dannys_diner.menu AS m ON s.product_id = m.product_id\n) AS numbered_rows\nWHERE row_num = 1;",
      "metadata": {},
      "execution_count": null,
      "outputs": []
    },
    {
      "cell_type": "code",
      "source": "-- 4. What is the most purchased item on the menu and how many times was it purchased by all customers?\nSELECT m.product_name, COUNT(s.product_id) AS purchase_count\nFROM dannys_diner.menu as m\nINNER JOIN dannys_diner.sales as s\nON m.product_id = s.product_id\nGROUP BY m.product_name\nORDER BY purchase_count DESC;",
      "metadata": {},
      "execution_count": null,
      "outputs": []
    },
    {
      "cell_type": "code",
      "source": "--5. Which item was the most popular for each customer?\nWITH RankedProducts AS (\n    SELECT\n        s.customer_id,\n        m.product_name,\n  \t\tCOUNT(s.product_id),\n        RANK() OVER (PARTITION BY s.customer_id ORDER BY COUNT(s.product_id) DESC) AS rnk\n    FROM\n        dannys_diner.sales AS s\n    INNER JOIN\n        dannys_diner.menu AS m ON s.product_id = m.product_id\n    GROUP BY\n        s.customer_id, m.product_name\n)\nSELECT\n    customer_id,\n    product_name,\n    count\nFROM\n    RankedProducts\nWHERE\n    rnk = 1;",
      "metadata": {},
      "execution_count": null,
      "outputs": []
    },
    {
      "cell_type": "code",
      "source": "-- 6. Which item was purchased first by the customer after they became a member?\nWITH new_mem AS (\n  SELECT \n    s.customer_id, \n    m.product_name, \n    s.order_date,\n    ROW_NUMBER() OVER (PARTITION BY s.customer_id ORDER BY s.order_date) AS row_num\n  FROM \n    dannys_diner.sales AS s\n  INNER JOIN \n    dannys_diner.menu AS m ON s.product_id = m.product_id\n  INNER JOIN \n    dannys_diner.members AS mem ON s.customer_id = mem.customer_id\n  WHERE \n    s.customer_id = mem.customer_id AND s.order_date >= mem.join_date\n  GROUP BY \n    s.customer_id, m.product_name, s.order_date\n)\nSELECT \n  customer_id, \n  product_name AS mem_first_product\nFROM \n  new_mem\nWHERE \n  row_num = 1;",
      "metadata": {},
      "execution_count": null,
      "outputs": []
    },
    {
      "cell_type": "code",
      "source": "--7. Which item was purchased just before the customer became a member?\nWITH non_member AS (\n    SELECT \n        s.customer_id, \n        s.order_date, \n        s.product_id,\n        m.product_name, \n        m.price,\n        ROW_NUMBER() OVER (PARTITION BY s.customer_id ORDER BY s.order_date DESC) AS last_date\n    FROM\n        dannys_diner.sales AS s\n    INNER JOIN \n        dannys_diner.menu AS m ON s.product_id = m.product_id\n    LEFT JOIN \n        dannys_diner.members AS mem ON s.customer_id = mem.customer_id\n    WHERE\n        (\n            s.customer_id IN (SELECT customer_id FROM dannys_diner.members) \n            AND s.order_date < mem.join_date\n        )\n        OR \n        (\n            s.customer_id NOT IN (SELECT customer_id FROM dannys_diner.members)\n        )\n)  \nSELECT \n\tcustomer_id, product_name\nFROM\n\tnon_member\nWHERE\n\tlast_date = 1",
      "metadata": {},
      "execution_count": null,
      "outputs": []
    },
    {
      "cell_type": "code",
      "source": "--8. What is the total items and amount spent for each member before they became a member?\nSELECT\n\tcustomer_id, SUM(amount_spent), SUM(items_bought)\nFROM (\n  SELECT\n  \tcustomer_id,\n  \tCOUNT (product_id)* price AS amount_spent,\n  \tCOUNT (product_id) AS items_bought  \t\n  FROM \n  \tnon_member\n  GROUP BY\n  \tcustomer_id, price\n  ORDER BY\n  \tamount_spent DESC\n)AS subquery\nGROUP BY customer_id",
      "metadata": {},
      "execution_count": null,
      "outputs": []
    },
    {
      "cell_type": "code",
      "source": "9.  If each $1 spent equates to 10 points and sushi has a 2x points multiplier - how many points would each customer have?\nSELECT \n    customer_id,\n    SUM(\n        CASE\n            WHEN s.product_id = m.product_id AND m.product_name = 'sushi'\n                THEN 2 * 10  -- Assuming you want to add 20 points\n            WHEN s.product_id = m.product_id AND m.product_name <> 'sushi'\n                THEN 10      -- Assuming you want to add 10 points\n            ELSE 0\n        END\n    ) AS customer_points\nFROM\n    dannys_diner.sales AS s\nINNER JOIN\n    dannys_diner.menu AS m ON s.product_id = m.product_id\nGROUP BY\n    customer_id;",
      "metadata": {},
      "execution_count": null,
      "outputs": []
    },
    {
      "cell_type": "code",
      "source": "-- 10. In the first week after a customer joins the program (including their join date) they earn 2x points on all items, not just sushi - how many points do customer A and B have at the end of January?\n\nWITH first_week AS (\n    SELECT \n        s.order_date,\n        s.customer_id\n    FROM \n        dannys_diner.sales AS s\n    INNER JOIN\n        dannys_diner.members AS mem ON mem.customer_id = s.customer_id\n    WHERE \n        s.order_date BETWEEN mem.join_date AND (mem.join_date + integer '6')\n)\n\nSELECT\n    s.customer_id,\n    SUM (\n        CASE \n            WHEN s.order_date IN (SELECT order_date FROM first_week)\n                THEN 2 * 10\n            ELSE 10\n        END\n    ) AS member_points\nFROM \n    first_week AS f\nINNER JOIN \n    dannys_diner.sales AS s ON f.customer_id = s.customer_id\nWHERE\n    DATE_PART('month', s.order_date) = 1\nGROUP BY\n    s.customer_id;",
      "metadata": {},
      "execution_count": null,
      "outputs": []
    }
  ]
}